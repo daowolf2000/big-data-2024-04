{
 "cells": [
  {
   "cell_type": "code",
   "execution_count": 75,
   "metadata": {},
   "outputs": [
    {
     "name": "stdout",
     "output_type": "stream",
     "text": [
      "123\n"
     ]
    }
   ],
   "source": [
    "def printf():\n",
    "    print('123')\n",
    "\n",
    "printf()"
   ]
  },
  {
   "cell_type": "code",
   "execution_count": null,
   "metadata": {},
   "outputs": [],
   "source": [
    "# Если сломали стандартную функцию (переопределили)\n",
    "# либо \n",
    "del print\n",
    "# либо \n",
    "import builtins\n",
    "print = builtins.print"
   ]
  },
  {
   "cell_type": "code",
   "execution_count": 76,
   "metadata": {},
   "outputs": [
    {
     "name": "stdout",
     "output_type": "stream",
     "text": [
      "---START---\n",
      "123\n",
      "---END---\n"
     ]
    }
   ],
   "source": [
    "old_print = print\n",
    "def new_print(line):\n",
    "    old_print('---START---')\n",
    "    old_print(line)\n",
    "    old_print('---END---')\n",
    "\n",
    "print = new_print\n",
    "print('123')"
   ]
  },
  {
   "cell_type": "code",
   "execution_count": 79,
   "metadata": {},
   "outputs": [
    {
     "data": {
      "text/plain": [
       "4"
      ]
     },
     "execution_count": 79,
     "metadata": {},
     "output_type": "execute_result"
    }
   ],
   "source": [
    "def sum(a,b):\n",
    "    return a+b\n",
    "\n",
    "sum(2,2)\n"
   ]
  },
  {
   "cell_type": "code",
   "execution_count": 80,
   "metadata": {},
   "outputs": [
    {
     "data": {
      "text/plain": [
       "10"
      ]
     },
     "execution_count": 80,
     "metadata": {},
     "output_type": "execute_result"
    }
   ],
   "source": [
    "def sum(*args):\n",
    "    result = 0\n",
    "    for i in args:\n",
    "        result += i\n",
    "    return result\n",
    "\n",
    "sum (2,2,2,2,2)"
   ]
  },
  {
   "cell_type": "code",
   "execution_count": 89,
   "metadata": {},
   "outputs": [
    {
     "data": {
      "text/plain": [
       "10"
      ]
     },
     "execution_count": 89,
     "metadata": {},
     "output_type": "execute_result"
    }
   ],
   "source": [
    "def sum(a,b,*args):\n",
    "    result = a+b\n",
    "    for i in args:\n",
    "        result += i\n",
    "    return result\n",
    "\n",
    "sum (2,2,2,2,2)\n"
   ]
  },
  {
   "cell_type": "code",
   "execution_count": 95,
   "metadata": {},
   "outputs": [
    {
     "name": "stdout",
     "output_type": "stream",
     "text": [
      "******************************\n",
      "Header\n",
      "******************************\n",
      "Chapter 1\n",
      "******************************\n"
     ]
    }
   ],
   "source": [
    "# до слэша только позиционные\n",
    "# после звездочки - только keyword аргументы\n",
    "# kwargs - неопределнное количество ключ-значения\n",
    "def pretty_print(header,text, /, border='*', *, epilogue, prologue, **kwargs):\n",
    "    print (border*30)\n",
    "    print (header)\n",
    "    print (border*30)\n",
    "    print (text)\n",
    "    print (border*30)\n",
    "    print (kwargs)\n",
    "\n",
    "\n",
    "pretty_print ('Header', 'Chapter 1')\n"
   ]
  },
  {
   "cell_type": "code",
   "execution_count": 101,
   "metadata": {},
   "outputs": [
    {
     "data": {
      "text/plain": [
       "[1, 2, 3, 4]"
      ]
     },
     "execution_count": 101,
     "metadata": {},
     "output_type": "execute_result"
    }
   ],
   "source": [
    "def add_to_list(e1, l=[]):\n",
    "    l.append(e1)\n",
    "    return l\n",
    "\n",
    "l1 = [1,2,3]\n",
    "add_to_list(4,l1)"
   ]
  },
  {
   "cell_type": "code",
   "execution_count": 103,
   "metadata": {},
   "outputs": [
    {
     "data": {
      "text/plain": [
       "[1, 1]"
      ]
     },
     "execution_count": 103,
     "metadata": {},
     "output_type": "execute_result"
    }
   ],
   "source": [
    "l2 = add_to_list(1)\n",
    "l2"
   ]
  },
  {
   "cell_type": "code",
   "execution_count": 104,
   "metadata": {},
   "outputs": [
    {
     "data": {
      "text/plain": [
       "[1, 1, 1]"
      ]
     },
     "execution_count": 104,
     "metadata": {},
     "output_type": "execute_result"
    }
   ],
   "source": [
    "# Тут будет ошибка\n",
    "l3 = add_to_list(1)\n",
    "l3"
   ]
  },
  {
   "cell_type": "code",
   "execution_count": null,
   "metadata": {},
   "outputs": [],
   "source": [
    "# Правильно писать так\n",
    "def add_to_list(e1, l=[]):\n",
    "    if not l:\n",
    "        l = list()\n",
    "    l.append(e1)\n",
    "    return l\n"
   ]
  },
  {
   "cell_type": "code",
   "execution_count": null,
   "metadata": {},
   "outputs": [],
   "source": [
    "# Переменные передаются по ссылке\n",
    "# Необходимо помнить про мутабельные и иммутабельные типы данных\n"
   ]
  },
  {
   "cell_type": "code",
   "execution_count": 106,
   "metadata": {},
   "outputs": [
    {
     "data": {
      "text/plain": [
       "'test'"
      ]
     },
     "execution_count": 106,
     "metadata": {},
     "output_type": "execute_result"
    }
   ],
   "source": [
    "def mutate_string(s):\n",
    "    s = s + 'mutaded'\n",
    "    return s\n",
    "\n",
    "s = 'test'\n",
    "mutate_string(s)\n",
    "s"
   ]
  },
  {
   "cell_type": "code",
   "execution_count": 107,
   "metadata": {},
   "outputs": [
    {
     "name": "stdout",
     "output_type": "stream",
     "text": [
      "0\n",
      "1\n",
      "2\n",
      "3\n",
      "4\n",
      "5\n",
      "6\n",
      "7\n",
      "8\n",
      "9\n"
     ]
    }
   ],
   "source": [
    "# Генераторные функции\n",
    "def gen():\n",
    "    for i in range(10):\n",
    "        yield i\n",
    "\n",
    "for i in gen():\n",
    "    print(i)"
   ]
  },
  {
   "cell_type": "code",
   "execution_count": 108,
   "metadata": {},
   "outputs": [
    {
     "name": "stdout",
     "output_type": "stream",
     "text": [
      "0 is string\n",
      "1\n",
      "2 is string\n",
      "3\n",
      "4 is string\n",
      "5\n",
      "6 is string\n",
      "7\n",
      "8 is string\n",
      "9\n"
     ]
    }
   ],
   "source": [
    "# Генераторные функции\n",
    "def gen():\n",
    "    for i in range(10):\n",
    "        if i % 2 == 0:\n",
    "            yield str(i) + ' is string'\n",
    "        else:\n",
    "            yield i\n",
    "\n",
    "for i in gen():\n",
    "    print(i)"
   ]
  },
  {
   "cell_type": "code",
   "execution_count": 110,
   "metadata": {},
   "outputs": [
    {
     "name": "stdout",
     "output_type": "stream",
     "text": [
      "2\n"
     ]
    }
   ],
   "source": [
    "# Связывание\n",
    "def my_func(x):\n",
    "    def my_inner_func():\n",
    "        print(x)\n",
    "    my_inner_func()\n",
    "\n",
    "\n",
    "my_func(2)"
   ]
  },
  {
   "cell_type": "code",
   "execution_count": 111,
   "metadata": {},
   "outputs": [
    {
     "name": "stdout",
     "output_type": "stream",
     "text": [
      "4\n"
     ]
    }
   ],
   "source": [
    "def my_func(x):\n",
    "    def my_inner_func():\n",
    "        print(x)\n",
    "    my_inner_func()\n",
    "    return my_inner_func\n",
    "\n",
    "func1 = my_func(4)\n"
   ]
  },
  {
   "cell_type": "code",
   "execution_count": 112,
   "metadata": {},
   "outputs": [
    {
     "name": "stdout",
     "output_type": "stream",
     "text": [
      "6\n"
     ]
    }
   ],
   "source": [
    "func2 = my_func(6)"
   ]
  },
  {
   "cell_type": "code",
   "execution_count": 113,
   "metadata": {},
   "outputs": [
    {
     "name": "stdout",
     "output_type": "stream",
     "text": [
      "4\n"
     ]
    }
   ],
   "source": [
    "func1()"
   ]
  },
  {
   "cell_type": "code",
   "execution_count": 114,
   "metadata": {},
   "outputs": [
    {
     "name": "stdout",
     "output_type": "stream",
     "text": [
      "6\n"
     ]
    }
   ],
   "source": [
    "func2()"
   ]
  },
  {
   "cell_type": "code",
   "execution_count": 118,
   "metadata": {},
   "outputs": [],
   "source": [
    "import functools\n",
    "\n",
    "def print_args(func):\n",
    "    @functools.wraps(func)\n",
    "    def wrapper(*args, **kwargs):\n",
    "        print(f'args={args}')\n",
    "        print(f'args={kwargs}')\n",
    "        result = func(*args, **kwargs)\n",
    "        print(f'result={result}')\n",
    "        return result\n",
    "    return wrapper\n",
    "\n",
    "@print_args\n",
    "def sum(a,b):\n",
    "    return a+b\n",
    "\n",
    "# args = '123'\n",
    "# 123"
   ]
  },
  {
   "cell_type": "code",
   "execution_count": 119,
   "metadata": {},
   "outputs": [
    {
     "name": "stdout",
     "output_type": "stream",
     "text": [
      "args=(1, 2)\n",
      "args={}\n",
      "result=3\n"
     ]
    },
    {
     "data": {
      "text/plain": [
       "3"
      ]
     },
     "execution_count": 119,
     "metadata": {},
     "output_type": "execute_result"
    }
   ],
   "source": [
    "sum(1,2)"
   ]
  },
  {
   "cell_type": "code",
   "execution_count": 125,
   "metadata": {},
   "outputs": [
    {
     "data": {
      "text/plain": [
       "[1, 2, 3]"
      ]
     },
     "execution_count": 125,
     "metadata": {},
     "output_type": "execute_result"
    }
   ],
   "source": [
    "a = [1,2,3]\n",
    "a.count()"
   ]
  }
 ],
 "metadata": {
  "kernelspec": {
   "display_name": "Python 3 (ipykernel)",
   "language": "python",
   "name": "python3"
  },
  "language_info": {
   "codemirror_mode": {
    "name": "ipython",
    "version": 3
   },
   "file_extension": ".py",
   "mimetype": "text/x-python",
   "name": "python",
   "nbconvert_exporter": "python",
   "pygments_lexer": "ipython3",
   "version": "3.10.12"
  }
 },
 "nbformat": 4,
 "nbformat_minor": 2
}
