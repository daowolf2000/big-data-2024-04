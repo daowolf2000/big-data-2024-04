{
 "cells": [
  {
   "cell_type": "code",
   "execution_count": 138,
   "metadata": {},
   "outputs": [
    {
     "data": {
      "text/plain": [
       "<__main__.Animal at 0x7f59c1ab1390>"
      ]
     },
     "execution_count": 138,
     "metadata": {},
     "output_type": "execute_result"
    }
   ],
   "source": [
    "class Animal:\n",
    "    pass\n",
    "\n",
    "cat = Animal()\n",
    "cat"
   ]
  },
  {
   "cell_type": "code",
   "execution_count": 141,
   "metadata": {},
   "outputs": [
    {
     "name": "stdout",
     "output_type": "stream",
     "text": [
      "hello, Denis , I'm a Cat\n"
     ]
    }
   ],
   "source": [
    "class Cat(Animal):\n",
    "    def great(self, name):\n",
    "        print(f'hello, {name} , I\\'m a Cat')\n",
    "\n",
    "new_cat = Cat()\n",
    "new_cat.great('Denis')"
   ]
  },
  {
   "cell_type": "code",
   "execution_count": 145,
   "metadata": {},
   "outputs": [
    {
     "name": "stdout",
     "output_type": "stream",
     "text": [
      "Help on class Cat in module __main__:\n",
      "\n",
      "class Cat(Animal)\n",
      " |  Method resolution order:\n",
      " |      Cat\n",
      " |      Animal\n",
      " |      builtins.object\n",
      " |  \n",
      " |  Methods defined here:\n",
      " |  \n",
      " |  great(self, name)\n",
      " |  \n",
      " |  ----------------------------------------------------------------------\n",
      " |  Data descriptors inherited from Animal:\n",
      " |  \n",
      " |  __dict__\n",
      " |      dictionary for instance variables (if defined)\n",
      " |  \n",
      " |  __weakref__\n",
      " |      list of weak references to the object (if defined)\n",
      "\n"
     ]
    }
   ],
   "source": [
    "help (Cat)"
   ]
  },
  {
   "cell_type": "code",
   "execution_count": 146,
   "metadata": {},
   "outputs": [
    {
     "data": {
      "text/plain": [
       "mappingproxy({'__module__': '__main__',\n",
       "              'great': <function __main__.Cat.great(self, name)>,\n",
       "              '__doc__': None})"
      ]
     },
     "execution_count": 146,
     "metadata": {},
     "output_type": "execute_result"
    }
   ],
   "source": [
    "Cat.__dict__"
   ]
  },
  {
   "cell_type": "code",
   "execution_count": 151,
   "metadata": {},
   "outputs": [
    {
     "data": {
      "text/plain": [
       "['__class__',\n",
       " '__delattr__',\n",
       " '__dict__',\n",
       " '__dir__',\n",
       " '__doc__',\n",
       " '__eq__',\n",
       " '__format__',\n",
       " '__ge__',\n",
       " '__getattribute__',\n",
       " '__gt__',\n",
       " '__hash__',\n",
       " '__init__',\n",
       " '__init_subclass__',\n",
       " '__le__',\n",
       " '__lt__',\n",
       " '__module__',\n",
       " '__ne__',\n",
       " '__new__',\n",
       " '__reduce__',\n",
       " '__reduce_ex__',\n",
       " '__repr__',\n",
       " '__setattr__',\n",
       " '__sizeof__',\n",
       " '__str__',\n",
       " '__subclasshook__',\n",
       " '__weakref__',\n",
       " 'great']"
      ]
     },
     "execution_count": 151,
     "metadata": {},
     "output_type": "execute_result"
    }
   ],
   "source": [
    "dir (Cat)"
   ]
  },
  {
   "cell_type": "code",
   "execution_count": 155,
   "metadata": {},
   "outputs": [
    {
     "name": "stdout",
     "output_type": "stream",
     "text": [
      "hello, 123 , I'm a Cat\n"
     ]
    }
   ],
   "source": [
    "Cat.great(123123, '123')"
   ]
  },
  {
   "cell_type": "code",
   "execution_count": 161,
   "metadata": {},
   "outputs": [
    {
     "name": "stdout",
     "output_type": "stream",
     "text": [
      "hello, 123 , I'm a Cat\n"
     ]
    }
   ],
   "source": [
    "class Cat(Animal):\n",
    "    cache = {}\n",
    "    def great(self, name):\n",
    "        if name in self.cache:\n",
    "            print('I have already great you')\n",
    "        else:\n",
    "            print(f'hello, {name} , I\\'m a Cat')\n",
    "            self.cache[name] = 1\n",
    "\n",
    "supercat = Cat()\n",
    "supercat.great('123')"
   ]
  },
  {
   "cell_type": "code",
   "execution_count": 162,
   "metadata": {},
   "outputs": [
    {
     "name": "stdout",
     "output_type": "stream",
     "text": [
      "I have already great you\n"
     ]
    }
   ],
   "source": [
    "supercat.great('123')"
   ]
  },
  {
   "cell_type": "code",
   "execution_count": 164,
   "metadata": {},
   "outputs": [
    {
     "name": "stdout",
     "output_type": "stream",
     "text": [
      "hello, 123 , I'm a Cat\n",
      "I have already great you\n",
      "I have already great you\n"
     ]
    }
   ],
   "source": [
    "# Другой вариант\n",
    "class Cat(Animal):\n",
    "    def great(self, name):\n",
    "        if hasattr(self, 'prev_name') and self.prev_name == name:\n",
    "            print('I have already great you')\n",
    "        else:\n",
    "            print(f'hello, {name} , I\\'m a Cat')\n",
    "            self.prev_name = name\n",
    "\n",
    "supercat = Cat()\n",
    "supercat.great('123')\n",
    "supercat.great('123')\n",
    "supercat.great('123')\n"
   ]
  },
  {
   "cell_type": "code",
   "execution_count": 171,
   "metadata": {},
   "outputs": [
    {
     "name": "stdout",
     "output_type": "stream",
     "text": [
      "<class 'str'>\n"
     ]
    },
    {
     "ename": "ValueError",
     "evalue": "Must be a int",
     "output_type": "error",
     "traceback": [
      "\u001b[0;31m---------------------------------------------------------------------------\u001b[0m",
      "\u001b[0;31mValueError\u001b[0m                                Traceback (most recent call last)",
      "Cell \u001b[0;32mIn[171], line 22\u001b[0m\n\u001b[1;32m     17\u001b[0m             \u001b[38;5;28;01mraise\u001b[39;00m \u001b[38;5;167;01mValueError\u001b[39;00m(\u001b[38;5;124m'\u001b[39m\u001b[38;5;124mMust be a int\u001b[39m\u001b[38;5;124m'\u001b[39m)\n\u001b[1;32m     21\u001b[0m cat \u001b[38;5;241m=\u001b[39m MyCat()\n\u001b[0;32m---> 22\u001b[0m \u001b[43mcat\u001b[49m\u001b[38;5;241;43m.\u001b[39;49m\u001b[43mcat_length\u001b[49m \u001b[38;5;241m=\u001b[39m \u001b[38;5;124m'\u001b[39m\u001b[38;5;124mtest\u001b[39m\u001b[38;5;124m'\u001b[39m\n\u001b[1;32m     23\u001b[0m cat\u001b[38;5;241m.\u001b[39mcat_length\n",
      "Cell \u001b[0;32mIn[171], line 17\u001b[0m, in \u001b[0;36mMyCat.cat_length\u001b[0;34m(self, value)\u001b[0m\n\u001b[1;32m     15\u001b[0m     \u001b[38;5;28mself\u001b[39m\u001b[38;5;241m.\u001b[39mlength \u001b[38;5;241m=\u001b[39m value\n\u001b[1;32m     16\u001b[0m \u001b[38;5;28;01melse\u001b[39;00m:\n\u001b[0;32m---> 17\u001b[0m     \u001b[38;5;28;01mraise\u001b[39;00m \u001b[38;5;167;01mValueError\u001b[39;00m(\u001b[38;5;124m'\u001b[39m\u001b[38;5;124mMust be a int\u001b[39m\u001b[38;5;124m'\u001b[39m)\n",
      "\u001b[0;31mValueError\u001b[0m: Must be a int"
     ]
    }
   ],
   "source": [
    "class MyCat:\n",
    "    length = 0\n",
    "    width = 0\n",
    "    def ger_region(self):\n",
    "        return self.length * self.width\n",
    "    \n",
    "    @property\n",
    "    def cat_length(self):\n",
    "        return self.length\n",
    "    \n",
    "    @cat_length.setter\n",
    "    def cat_length(self,value):\n",
    "        # if isinstance(value, int):\n",
    "        if type(value) == int:\n",
    "            self.length = value\n",
    "        else:\n",
    "            raise ValueError('Must be a int')\n",
    "\n",
    "\n",
    "\n",
    "cat = MyCat()\n",
    "cat.cat_length = 'test'\n",
    "cat.cat_length"
   ]
  },
  {
   "cell_type": "code",
   "execution_count": 172,
   "metadata": {},
   "outputs": [
    {
     "name": "stdout",
     "output_type": "stream",
     "text": [
      "from 140023469439440\n",
      "from 94126151786208\n",
      "123\n"
     ]
    }
   ],
   "source": [
    "class Db:\n",
    "    def instance_method(self,value):\n",
    "        print(f'from {id(self)}')\n",
    "\n",
    "    @classmethod\n",
    "    def class_method(cls, value):\n",
    "        print(f'from {id(cls)}')\n",
    "\n",
    "    @staticmethod\n",
    "    def static_method(value):\n",
    "        print(value)\n",
    "\n",
    "db = Db()\n",
    "db.instance_method(123)\n",
    "Db.class_method(123)\n",
    "Db.static_method(123)\n"
   ]
  },
  {
   "cell_type": "code",
   "execution_count": 181,
   "metadata": {},
   "outputs": [
    {
     "name": "stdout",
     "output_type": "stream",
     "text": [
      "MySQL\n",
      "Postgre\n"
     ]
    }
   ],
   "source": [
    "class Db:\n",
    "    class MySQL:\n",
    "        @staticmethod\n",
    "        def connect():\n",
    "            print('MySQL')\n",
    "    class Postgre:\n",
    "        @staticmethod\n",
    "        def connect():\n",
    "            print('Postgre')\n",
    "\n",
    "\n",
    "\n",
    "db = Db()\n",
    "db.MySQL.connect()\n",
    "db.Postgre.connect()"
   ]
  },
  {
   "cell_type": "code",
   "execution_count": 196,
   "metadata": {},
   "outputs": [
    {
     "name": "stdout",
     "output_type": "stream",
     "text": [
      "meow\n",
      "2\n",
      "0\n",
      "test\n"
     ]
    }
   ],
   "source": [
    "class MyCat:\n",
    "    len = 0 \n",
    "    wid = 0\n",
    "\n",
    "    def get_region(self):\n",
    "        return self.len * self.wid\n",
    "    \n",
    "class SibCat(MyCat):\n",
    "    def meow(self):\n",
    "        print('meow')\n",
    "\n",
    "    def get_region(self):\n",
    "        return 2 + super().get_region()\n",
    "    \n",
    "    def __len__(self):\n",
    "        return self.len\n",
    "    \n",
    "    def __str__(self) -> str:\n",
    "        return 'test'\n",
    "\n",
    "    def __init__ (self, len = 0, wid = 0):\n",
    "        self.len = len\n",
    "        self.wid = wid\n",
    "\n",
    "cat = SibCat()\n",
    "cat.meow()\n",
    "print(cat.get_region())\n",
    "print(len(cat))\n",
    "print(cat)"
   ]
  },
  {
   "cell_type": "code",
   "execution_count": null,
   "metadata": {},
   "outputs": [],
   "source": []
  }
 ],
 "metadata": {
  "kernelspec": {
   "display_name": "Python 3 (ipykernel)",
   "language": "python",
   "name": "python3"
  },
  "language_info": {
   "codemirror_mode": {
    "name": "ipython",
    "version": 3
   },
   "file_extension": ".py",
   "mimetype": "text/x-python",
   "name": "python",
   "nbconvert_exporter": "python",
   "pygments_lexer": "ipython3",
   "version": "3.10.12"
  }
 },
 "nbformat": 4,
 "nbformat_minor": 2
}
